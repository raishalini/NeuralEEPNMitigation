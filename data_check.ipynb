{
 "cells": [
  {
   "cell_type": "code",
   "execution_count": 17,
   "id": "b33b4cb9-5a68-4590-838f-e182cb073dd7",
   "metadata": {},
   "outputs": [],
   "source": [
    "from bs4 import BeautifulSoup\n",
    "import json\n",
    "import re"
   ]
  },
  {
   "cell_type": "code",
   "execution_count": 4,
   "id": "3a52da10-b0c9-4c3a-813d-80766166994e",
   "metadata": {},
   "outputs": [
    {
     "name": "stdout",
     "output_type": "stream",
     "text": [
      "Collecting tikzplotly\n",
      "  Using cached tikzplotly-0.1.7-py3-none-any.whl.metadata (6.0 kB)\n",
      "Requirement already satisfied: numpy in /opt/conda/lib/python3.11/site-packages (from tikzplotly) (1.24.3)\n",
      "Requirement already satisfied: plotly in /opt/conda/lib/python3.11/site-packages (from tikzplotly) (5.24.1)\n",
      "Requirement already satisfied: pillow in /opt/conda/lib/python3.11/site-packages (from tikzplotly) (10.1.0)\n",
      "Requirement already satisfied: tenacity>=6.2.0 in /opt/conda/lib/python3.11/site-packages (from plotly->tikzplotly) (9.0.0)\n",
      "Requirement already satisfied: packaging in /opt/conda/lib/python3.11/site-packages (from plotly->tikzplotly) (23.2)\n",
      "Using cached tikzplotly-0.1.7-py3-none-any.whl (37 kB)\n",
      "Installing collected packages: tikzplotly\n",
      "Successfully installed tikzplotly-0.1.7\n"
     ]
    }
   ],
   "source": [
    "from plots import SNRVsLinewidthPlotterNN"
   ]
  },
  {
   "cell_type": "code",
   "execution_count": 2,
   "id": "8e8fea60-17c4-40d2-acd2-28d64faf0718",
   "metadata": {},
   "outputs": [
    {
     "name": "stdout",
     "output_type": "stream",
     "text": [
      "Collecting plotly\n",
      "  Using cached plotly-5.24.1-py3-none-any.whl.metadata (7.3 kB)\n",
      "Collecting tenacity>=6.2.0 (from plotly)\n",
      "  Using cached tenacity-9.0.0-py3-none-any.whl.metadata (1.2 kB)\n",
      "Requirement already satisfied: packaging in /opt/conda/lib/python3.11/site-packages (from plotly) (23.2)\n",
      "Using cached plotly-5.24.1-py3-none-any.whl (19.1 MB)\n",
      "Using cached tenacity-9.0.0-py3-none-any.whl (28 kB)\n",
      "Installing collected packages: tenacity, plotly\n",
      "Successfully installed plotly-5.24.1 tenacity-9.0.0\n"
     ]
    },
    {
     "name": "stderr",
     "output_type": "stream",
     "text": [
      "2025-01-08 21:24:47.469512: I tensorflow/core/platform/cpu_feature_guard.cc:182] This TensorFlow binary is optimized to use available CPU instructions in performance-critical operations.\n",
      "To enable the following instructions: AVX2 FMA, in other operations, rebuild TensorFlow with the appropriate compiler flags.\n",
      "2025-01-08 21:24:48.265057: W tensorflow/compiler/tf2tensorrt/utils/py_utils.cc:38] TF-TRT Warning: Could not find TensorRT\n"
     ]
    }
   ],
   "source": [
    "import os\n",
    "try:\n",
    "    import plotly\n",
    "except ImportError as e:\n",
    "    os.system(\"pip install plotly\")\n",
    "from plotly.subplots import make_subplots\n",
    "import plotly.graph_objs as go\n",
    "import plotly.io as pio\n",
    "import numpy as np\n",
    "import tensorflow as tf\n",
    "import matplotlib.pyplot as plt\n",
    "import json"
   ]
  },
  {
   "cell_type": "code",
   "execution_count": 29,
   "id": "32235dba-5eeb-49ac-91e9-da14f0c1385f",
   "metadata": {},
   "outputs": [],
   "source": [
    "# Load the HTML file\n",
    "with open(\"snr_linewidth_linkdistNN_patience100.html\", \"r\") as f:\n",
    "    html = f.read()"
   ]
  },
  {
   "cell_type": "code",
   "execution_count": 30,
   "id": "95442c97-f191-4255-a93f-2ded3819ec43",
   "metadata": {},
   "outputs": [],
   "source": [
    "# Parse the HTML\n",
    "soup = BeautifulSoup(html, \"html.parser\")"
   ]
  },
  {
   "cell_type": "code",
   "execution_count": 31,
   "id": "a35dd7ec-5ad4-4824-acbc-9d2a9c0e4f21",
   "metadata": {},
   "outputs": [
    {
     "name": "stderr",
     "output_type": "stream",
     "text": [
      "/tmp/ipykernel_562/2174129108.py:2: DeprecationWarning: The 'text' argument to find()-type methods is deprecated. Use 'string' instead.\n",
      "  script_tags = soup.find_all(\"script\", text=re.compile(r\"Plotly\\.newPlot\"))\n"
     ]
    }
   ],
   "source": [
    "# Extract the JSON from the <script> tag\n",
    "script_tags = soup.find_all(\"script\", text=re.compile(r\"Plotly\\.newPlot\"))"
   ]
  },
  {
   "cell_type": "code",
   "execution_count": 33,
   "id": "1829ad90-89a3-4485-8898-dee747040279",
   "metadata": {},
   "outputs": [
    {
     "name": "stdout",
     "output_type": "stream",
     "text": [
      "Raw Script Content:\n",
      "/**\n",
      "* plotly.js v2.35.2\n",
      "* Copyright 2012-2024, Plotly, Inc.\n",
      "* All rights reserved.\n",
      "* Licensed under the MIT license\n",
      "*/\n",
      "/*! For license information please see plotly.min.js.LICENSE.txt */\n",
      "!function(t,e){\"object\"==typeof exports&&\"object\"==typeof module?module.exports=e():\"function\"==typeof define&&define.amd?define([],e):\"object\"==typeof exports?exports.Plotly=e():t.Plotly=e()}(self,(function(){return function(){var t={6713:function(t,e,r){\"use strict\";var n=r(34809),i={\"X,X div\":'direction:ltr;f\n",
      "Raw Script Content:\n",
      "                                    window.PLOTLYENV=window.PLOTLYENV || {};                                    if (document.getElementById(\"05445f3b-80ec-4070-bd7b-1e80ca577c09\")) {                    Plotly.newPlot(                        \"05445f3b-80ec-4070-bd7b-1e80ca577c09\",                        [{\"mode\":\"lines\",\"name\":\"With NN, Distance 1000.0 km\",\"x\":[100000.0,200000.0,300000.0,400000.0,500000.0,750000.0,1000000.0],\"y\":[13.248315811157227,13.315266609191895,13.832853317260742,15.0496044\n",
      "Raw JSON-like Data:\n",
      "[{\"mode\":\"lines\",\"name\":\"With NN, Distance 1000.0 km\",\"x\":[100000.0,200000.0,300000.0,400000.0,500000.0,750000.0,1000000.0]\n",
      "Sanitized JSON:\n",
      "[{\"mode\":\"lines\",\"name\":\"With NN, Distance 1000.0 km\",\"x\":[100000.0,200000.0,300000.0,400000.0,500000.0,750000.0,1000000.0]\n",
      "Error decoding JSON: Expecting ',' delimiter: line 1 column 124 (char 123)\n",
      "Sanitized JSON: [{\"mode\":\"lines\",\"name\":\"With NN, Distance 1000.0 km\",\"x\":[100000.0,200000.0,300000.0,400000.0,500000.0,750000.0,1000000.0]\n"
     ]
    }
   ],
   "source": [
    "for tag in script_tags:\n",
    "    # Extract the text within the <script> tag\n",
    "    script_text = tag.string\n",
    "\n",
    "    # Debug: Print the script content to verify the presence of both x and y\n",
    "    print(\"Raw Script Content:\")\n",
    "    print(script_text[:500])  # Only print first 500 characters for brevity\n",
    "\n",
    "    # Use a regex to extract the JSON-like data inside Plotly.newPlot\n",
    "    match = re.search(r\"Plotly\\.newPlot\\(\\s*\\\"[^\\\"]+\\\",\\s*(\\[[^\\]]+\\])\", script_text)\n",
    "    if match:\n",
    "        raw_plotly_json = match.group(1)\n",
    "\n",
    "        # Debug: Print the raw extracted JSON-like structure\n",
    "        print(\"Raw JSON-like Data:\")\n",
    "        print(raw_plotly_json)\n",
    "\n",
    "        # Clean the extracted data to make it valid JSON\n",
    "        # Remove trailing commas inside JSON arrays and objects\n",
    "        sanitized_json = re.sub(r\",\\s*(})\", r\"\\1\", raw_plotly_json)  # Remove trailing comma before }\n",
    "        sanitized_json = re.sub(r\",\\s*(])\", r\"\\1\", sanitized_json)  # Remove trailing comma before ]\n",
    "        \n",
    "        # Debug: Print the sanitized JSON to check if it's correct\n",
    "        print(\"Sanitized JSON:\")\n",
    "        print(sanitized_json)\n",
    "\n",
    "        try:\n",
    "            # Parse the sanitized JSON\n",
    "            plot_data = json.loads(sanitized_json)\n",
    "\n",
    "            # Print the extracted plot data\n",
    "            print(\"Extracted Plot Data:\")\n",
    "            print(json.dumps(plot_data, indent=4))\n",
    "\n",
    "            # Debug: Print the x and y values for each plot trace\n",
    "            for trace in plot_data:\n",
    "                print(\"Trace Name:\", trace.get(\"name\"))\n",
    "                print(\"x values:\", trace.get(\"x\"))\n",
    "                print(\"y values:\", trace.get(\"y\"))\n",
    "\n",
    "        except json.JSONDecodeError as e:\n",
    "            print(\"Error decoding JSON:\", e)\n",
    "            print(\"Sanitized JSON:\", sanitized_json)"
   ]
  },
  {
   "cell_type": "code",
   "execution_count": 38,
   "id": "cf46b6a2-5976-4936-9e75-357cb2f944e3",
   "metadata": {},
   "outputs": [],
   "source": [
    "plot_json = [{\"mode\":\"lines\",\"name\":\"With NN, Distance 1000.0 km\",\"x\":[100000.0,200000.0,300000.0,400000.0,500000.0,750000.0,1000000.0],\"y\":[23.515104293823242,32.15550994873047,40.98069381713867,36.60968780517578,37.10267639160156,35.494441986083984,32.585758209228516],\"type\":\"scatter\"},{\"line\":{\"dash\":\"dash\"},\"mode\":\"lines\",\"name\":\"Without NN, Distance 1000.0 km\",\"x\":[100000.0,200000.0,300000.0,400000.0,500000.0,750000.0,1000000.0],\"y\":[28.18678855895996,26.320026397705078,24.933746337890625,23.934375762939453,23.06918716430664,21.47696304321289,20.497604370117188],\"type\":\"scatter\"},{\"mode\":\"lines\",\"name\":\"With NN, Distance 2000.0 km\",\"x\":[100000.0,200000.0,300000.0,400000.0,500000.0,750000.0,1000000.0],\"y\":[23.34654426574707,31.477224349975586,33.08982849121094,36.95020294189453,32.19322967529297,33.35617446899414,29.785179138183594],\"type\":\"scatter\"},{\"line\":{\"dash\":\"dash\"},\"mode\":\"lines\",\"name\":\"Without NN, Distance 2000.0 km\",\"x\":[100000.0,200000.0,300000.0,400000.0,500000.0,750000.0,1000000.0],\"y\":[27.01873207092285,24.6907901763916,23.331695556640625,22.17685317993164,21.246952056884766,19.719886779785156,18.387784957885742],\"type\":\"scatter\"},{\"mode\":\"lines\",\"name\":\"With NN, Distance 4000.0 km\",\"x\":[100000.0,200000.0,300000.0,400000.0,500000.0,750000.0,1000000.0],\"y\":[23.92254638671875,33.88534164428711,31.08713722229004,30.583505630493164,30.647464752197266,26.784255981445312,21.510114669799805],\"type\":\"scatter\"},{\"line\":{\"dash\":\"dash\"},\"mode\":\"lines\",\"name\":\"Without NN, Distance 4000.0 km\",\"x\":[100000.0,200000.0,300000.0,400000.0,500000.0,750000.0,1000000.0],\"y\":[25.239351272583008,22.23198699951172,20.82746124267578,19.7088623046875,18.620849609375,17.4160099029541,15.87306022644043],\"type\":\"scatter\"},{\"mode\":\"lines\",\"name\":\"With NN, Distance 5000.0 km\",\"x\":[100000.0,200000.0,300000.0,400000.0,500000.0,750000.0,1000000.0],\"y\":[25.47623634338379,37.161800384521484,31.577938079833984,28.09367561340332,28.541017532348633,22.394163131713867,19.104238510131836],\"type\":\"scatter\"},{\"line\":{\"dash\":\"dash\"},\"mode\":\"lines\",\"name\":\"Without NN, Distance 5000.0 km\",\"x\":[100000.0,200000.0,300000.0,400000.0,500000.0,750000.0,1000000.0],\"y\":[24.296585083007812,21.74956512451172,20.133153915405273,18.62775421142578,17.97994041442871,16.081676483154297,14.590392112731934],\"type\":\"scatter\"}]"
   ]
  },
  {
   "cell_type": "code",
   "execution_count": 3,
   "id": "25ab5584-0556-41b1-9792-bb2312ccbf84",
   "metadata": {},
   "outputs": [],
   "source": [
    "def plot(results):\n",
    "    fig = go.Figure()\n",
    "\n",
    "    for length in self.link_distances:\n",
    "        snr_with_nn = []\n",
    "        snr_without_nn = []\n",
    "\n",
    "        for lw in self.linewidths:\n",
    "            snr_with_nn.append(results[lw][length][\"snr\"][0][\"nn_snr\"])\n",
    "            snr_without_nn.append(results[lw][length][\"snr\"][0][\"original_snr\"])\n",
    "\n",
    "        fig.add_trace(go.Scatter(x=self.linewidths, y=snr_with_nn, mode='lines',\n",
    "                                 name=f'With NN, Distance {length} km'))\n",
    "        fig.add_trace(go.Scatter(x=self.linewidths, y=snr_without_nn, mode='lines',\n",
    "                                 name=f'Without NN, Distance {length} km', line=dict(dash='dash')))\n",
    "\n",
    "    fig.update_layout(\n",
    "        xaxis_title='Linewidth (Hz)',\n",
    "        yaxis_title='SNR (dB)',\n",
    "        title='SNR vs. Linewidth for Different Link Distances',\n",
    "        legend_title='Link Distance',\n",
    "    )\n",
    "\n",
    "    tikzplotly.save(\"snr_linewidth_linkdistNN.tex\", fig)\n",
    "    # fig.write_html(\"snr_linewidth_linkdistNN.html\")\n",
    "    fig.show()"
   ]
  },
  {
   "cell_type": "code",
   "execution_count": null,
   "id": "8c7ffe20-eaba-4845-970f-5240a57a0f72",
   "metadata": {},
   "outputs": [],
   "source": [
    "test_results[lw][length][\"snr\"].append({\"original_snr\": original_snr.numpy(), \"nn_snr\": nn_snr.numpy()})"
   ]
  },
  {
   "cell_type": "code",
   "execution_count": null,
   "id": "37fb2040-0469-48dd-b89b-a8886f3a8926",
   "metadata": {},
   "outputs": [],
   "source": [
    "plotter = SNRVsLinewidthPlotterNN(pipeline, linewidths, link_distances)\n",
    "plotter.plot(test_results)"
   ]
  },
  {
   "cell_type": "code",
   "execution_count": 36,
   "id": "8b54b553-1621-4e0f-89b9-ce03a6d21980",
   "metadata": {},
   "outputs": [],
   "source": [
    "import plotly.express as px\n",
    "import tikzplotly\n",
    "\n",
    "df = px.data.gapminder().query(\"continent == 'Oceania'\")\n",
    "fig = px.line(df, x='year', y='lifeExp', color='country', markers=True)\n",
    "tikzplotly.save(\"example.tex\", fig)"
   ]
  },
  {
   "cell_type": "code",
   "execution_count": 40,
   "id": "e4ccee9d-cd98-48e3-8baa-a586859aab06",
   "metadata": {},
   "outputs": [
    {
     "ename": "NameError",
     "evalue": "name 'go' is not defined",
     "output_type": "error",
     "traceback": [
      "\u001b[0;31m---------------------------------------------------------------------------\u001b[0m",
      "\u001b[0;31mNameError\u001b[0m                                 Traceback (most recent call last)",
      "Cell \u001b[0;32mIn[40], line 1\u001b[0m\n\u001b[0;32m----> 1\u001b[0m fig \u001b[38;5;241m=\u001b[39m \u001b[43mgo\u001b[49m\u001b[38;5;241m.\u001b[39mFigure()\n\u001b[1;32m      3\u001b[0m \u001b[38;5;28;01mfor\u001b[39;00m length \u001b[38;5;129;01min\u001b[39;00m \u001b[38;5;28mself\u001b[39m\u001b[38;5;241m.\u001b[39mlink_distances:\n\u001b[1;32m      4\u001b[0m     fig\u001b[38;5;241m.\u001b[39madd_trace(go\u001b[38;5;241m.\u001b[39mScatter(x\u001b[38;5;241m=\u001b[39m\u001b[38;5;28mself\u001b[39m\u001b[38;5;241m.\u001b[39mlinewidths, y\u001b[38;5;241m=\u001b[39mresults[\u001b[38;5;124m'\u001b[39m\u001b[38;5;124mwith_tr\u001b[39m\u001b[38;5;124m'\u001b[39m][length], mode\u001b[38;5;241m=\u001b[39m\u001b[38;5;124m'\u001b[39m\u001b[38;5;124mlines\u001b[39m\u001b[38;5;124m'\u001b[39m,\n\u001b[1;32m      5\u001b[0m                              name\u001b[38;5;241m=\u001b[39m\u001b[38;5;124mf\u001b[39m\u001b[38;5;124m'\u001b[39m\u001b[38;5;124mWith TR, Distance \u001b[39m\u001b[38;5;132;01m{\u001b[39;00mlength\u001b[38;5;132;01m}\u001b[39;00m\u001b[38;5;124m km\u001b[39m\u001b[38;5;124m'\u001b[39m))\n",
      "\u001b[0;31mNameError\u001b[0m: name 'go' is not defined"
     ]
    }
   ],
   "source": [
    "fig = go.Figure()\n",
    "\n",
    "for length in self.link_distances:\n",
    "    fig.add_trace(go.Scatter(x=self.linewidths, y=results['with_tr'][length], mode='lines',\n",
    "                             name=f'With TR, Distance {length} km'))\n",
    "    fig.add_trace(go.Scatter(x=self.linewidths, y=results['without_tr'][length], mode='lines',\n",
    "                             name=f'Without TR, Distance {length} km', line=dict(dash='dash')))\n",
    "\n",
    "fig.update_layout(xaxis_title='Linewidth (Hz)',\n",
    "                  yaxis_title='SNR (dB)',\n",
    "                  title='SNR vs. Linewidth for Different Link Distances',\n",
    "                  legend_title='Link Distance')"
   ]
  },
  {
   "cell_type": "code",
   "execution_count": 47,
   "id": "a74feaf4-4ba2-4049-af20-72b7c367abad",
   "metadata": {},
   "outputs": [],
   "source": [
    "def plotly_to_tikz(plot_data):\n",
    "    tikz_code = \"\\\\begin{tikzpicture}\\n\"\n",
    "    \n",
    "    for trace in plot_data:\n",
    "        name = trace.get('name', 'Unnamed Trace')\n",
    "        x_values = trace.get('x', [])\n",
    "        y_values = trace.get('y', [])\n",
    "        line_style = ''  # Default line style\n",
    "\n",
    "        if 'line' in trace:\n",
    "            # Check if line style (e.g., dash) is present\n",
    "            if 'dash' in trace['line']:\n",
    "                line_style = '[dashed]'\n",
    "\n",
    "        # Prepare coordinates in TikZ format\n",
    "        coordinates = ' '.join([f\"({x},{y})\" for x, y in zip(x_values, y_values)])\n",
    "\n",
    "        # Create TikZ plot command\n",
    "        tikz_code += f\"\\\\addplot {line_style} coordinates {{ {coordinates} }};\\n\"\n",
    "        tikz_code += f\"\\\\addlegendentry{{ {name} }}\\n\"\n",
    "    \n",
    "    tikz_code += \"\\\\end{tikzpicture}\\n\"\n",
    "    return tikz_code\n",
    "\n",
    "# Convert the Plotly data to TikZ format\n",
    "tikz_output = plotly_to_tikz(plot_json)"
   ]
  },
  {
   "cell_type": "code",
   "execution_count": 26,
   "id": "cf8c2756-6d4c-479d-af06-b180d876359e",
   "metadata": {},
   "outputs": [
    {
     "ename": "NameError",
     "evalue": "name 'tikz_output' is not defined",
     "output_type": "error",
     "traceback": [
      "\u001b[0;31m---------------------------------------------------------------------------\u001b[0m",
      "\u001b[0;31mNameError\u001b[0m                                 Traceback (most recent call last)",
      "Cell \u001b[0;32mIn[26], line 1\u001b[0m\n\u001b[0;32m----> 1\u001b[0m \u001b[43mtikz_output\u001b[49m\n",
      "\u001b[0;31mNameError\u001b[0m: name 'tikz_output' is not defined"
     ]
    }
   ],
   "source": [
    "tikz_output"
   ]
  },
  {
   "cell_type": "code",
   "execution_count": null,
   "id": "4f02107a-c6b3-41c2-a0e1-0d6f739baa56",
   "metadata": {},
   "outputs": [],
   "source": [
    "https://hub.inue.science/user/raishalini/files/snr_linewidth_linkdistNN.html?_xsrf=MnwxOjB8MTA6MTczNDM0MjU1MHw1Ol94c3JmfDEzMjpNRGRoWVdNd01qSmpaRE5sTkdaaU0ySXdOekUxTVdZM1pUYzBOV1JrWVRVNllUZzJZV0ZsTlRneU9XSmpPV1l3Tm1aall6ZG1NVGxtTURnd09UVm1NR1U1WkRJM1l6UmpOamt3TmpVNFlqQm1PV1l4WVRsbU5UWXhNakE1TlRBNVpRPT18YTczOTkxYTBiOGUxYzM2NzIxZmM3MDk2ZWE0NmVjM2I2YjcyYzNkMzdkZjdiMzFmNjZkYzlmY2MxZTE5OGE5Yg"
   ]
  },
  {
   "cell_type": "code",
   "execution_count": 92,
   "id": "2e96dbb8-80ed-433d-b8f3-de8e9bacc60f",
   "metadata": {},
   "outputs": [
    {
     "name": "stdout",
     "output_type": "stream",
     "text": [
      "Loaded JSON data:\n",
      "{'100000.0': {'1000.0': {'mse': [], 'snr': [{'original_snr': 13.956143379211426, 'nn_snr': 13.520953178405762}], 'evm': [], 'mse_x': [{'original_mse_x': 0.04019240289926529, 'nn_mse_x': 0.04442865028977394}]}, '2000.0': {'mse': [], 'snr': [{'original_snr': 13.9030179977417, 'nn_snr': 13.571863174438477}], 'evm': [], 'mse_x': [{'original_mse_x': 0.04068487137556076, 'nn_mse_x': 0.04390849173069}]}, '4000.0': {'mse': [], 'snr': [{'original_snr': 13.816479682922363, 'nn_snr': 13.299524307250977}], 'evm': [], 'mse_x': [{'original_mse_x': 0.04150509461760521, 'nn_mse_x': 0.04675164818763733}]}, '5000.0': {'mse': [], 'snr': [{'original_snr': 13.73161506652832, 'nn_snr': 13.40771770477295}], 'evm': [], 'mse_x': [{'original_mse_x': 0.0423504002392292, 'nn_mse_x': 0.04562967270612717}]}}, '200000.0': {'1000.0': {'mse': [], 'snr': [{'original_snr': 13.862244606018066, 'nn_snr': 13.33842945098877}], 'evm': [], 'mse_x': [{'original_mse_x': 0.041109975427389145, 'nn_mse_x': 0.04637978598475456}]}, '2000.0': {'mse': [], 'snr': [{'original_snr': 13.774042129516602, 'nn_snr': 13.480714797973633}], 'evm': [], 'mse_x': [{'original_mse_x': 0.0419539175927639, 'nn_mse_x': 0.04488541930913925}]}, '4000.0': {'mse': [], 'snr': [{'original_snr': 13.535645484924316, 'nn_snr': 13.235321998596191}], 'evm': [], 'mse_x': [{'original_mse_x': 0.044337403029203415, 'nn_mse_x': 0.04751191660761833}]}, '5000.0': {'mse': [], 'snr': [{'original_snr': 13.400165557861328, 'nn_snr': 12.854580879211426}], 'evm': [], 'mse_x': [{'original_mse_x': 0.04569683596491814, 'nn_mse_x': 0.051813703030347824}]}}, '300000.0': {'1000.0': {'mse': [], 'snr': [{'original_snr': 13.787288665771484, 'nn_snr': 14.144124031066895}], 'evm': [], 'mse_x': [{'original_mse_x': 0.04182300716638565, 'nn_mse_x': 0.038524024188518524}]}, '2000.0': {'mse': [], 'snr': [{'original_snr': 13.642032623291016, 'nn_snr': 14.482993125915527}], 'evm': [], 'mse_x': [{'original_mse_x': 0.04321672394871712, 'nn_mse_x': 0.035608671605587006}]}, '4000.0': {'mse': [], 'snr': [{'original_snr': 13.343781471252441, 'nn_snr': 14.027315139770508}], 'evm': [], 'mse_x': [{'original_mse_x': 0.04632439464330673, 'nn_mse_x': 0.03957822173833847}]}, '5000.0': {'mse': [], 'snr': [{'original_snr': 13.110342979431152, 'nn_snr': 13.556621551513672}], 'evm': [], 'mse_x': [{'original_mse_x': 0.04887521266937256, 'nn_mse_x': 0.0441022627055645}]}}, '400000.0': {'1000.0': {'mse': [], 'snr': [{'original_snr': 13.70557689666748, 'nn_snr': 14.021329879760742}], 'evm': [], 'mse_x': [{'original_mse_x': 0.04260500892996788, 'nn_mse_x': 0.03961733728647232}]}, '2000.0': {'mse': [], 'snr': [{'original_snr': 13.513047218322754, 'nn_snr': 14.57672119140625}], 'evm': [], 'mse_x': [{'original_mse_x': 0.04459276422858238, 'nn_mse_x': 0.03490574657917023}]}, '4000.0': {'mse': [], 'snr': [{'original_snr': 13.156557083129883, 'nn_snr': 13.491514205932617}], 'evm': [], 'mse_x': [{'original_mse_x': 0.04830087721347809, 'nn_mse_x': 0.044715628027915955}]}, '5000.0': {'mse': [], 'snr': [{'original_snr': 12.905708312988281, 'nn_snr': 12.43099308013916}], 'evm': [], 'mse_x': [{'original_mse_x': 0.051189687103033066, 'nn_mse_x': 0.05710233747959137}]}}, '500000.0': {'1000.0': {'mse': [], 'snr': [{'original_snr': 13.608890533447266, 'nn_snr': 14.712028503417969}], 'evm': [], 'mse_x': [{'original_mse_x': 0.043561384081840515, 'nn_mse_x': 0.0337899774312973}]}, '2000.0': {'mse': [], 'snr': [{'original_snr': 13.40102481842041, 'nn_snr': 13.409523010253906}], 'evm': [], 'mse_x': [{'original_mse_x': 0.04567602276802063, 'nn_mse_x': 0.045586735010147095}]}, '4000.0': {'mse': [], 'snr': [{'original_snr': 12.83680248260498, 'nn_snr': 13.429901123046875}], 'evm': [], 'mse_x': [{'original_mse_x': 0.05202915146946907, 'nn_mse_x': 0.04538756608963013}]}, '5000.0': {'mse': [], 'snr': [{'original_snr': 12.588494300842285, 'nn_snr': 13.1978759765625}], 'evm': [], 'mse_x': [{'original_mse_x': 0.055168189108371735, 'nn_mse_x': 0.04794579744338989}]}}, '750000.0': {'1000.0': {'mse': [], 'snr': [{'original_snr': 13.398066520690918, 'nn_snr': 13.963658332824707}], 'evm': [], 'mse_x': [{'original_mse_x': 0.04573838785290718, 'nn_mse_x': 0.04015333950519562}]}, '2000.0': {'mse': [], 'snr': [{'original_snr': 13.08621883392334, 'nn_snr': 14.318406105041504}], 'evm': [], 'mse_x': [{'original_mse_x': 0.04911242425441742, 'nn_mse_x': 0.03698049113154411}]}, '4000.0': {'mse': [], 'snr': [{'original_snr': 12.32854175567627, 'nn_snr': 12.491168975830078}], 'evm': [], 'mse_x': [{'original_mse_x': 0.058516133576631546, 'nn_mse_x': 0.056365448981523514}]}, '5000.0': {'mse': [], 'snr': [{'original_snr': 11.999093055725098, 'nn_snr': 12.470827102661133}], 'evm': [], 'mse_x': [{'original_mse_x': 0.06308507919311523, 'nn_mse_x': 0.056591764092445374}]}}, '1000000.0': {'1000.0': {'mse': [], 'snr': [{'original_snr': 13.231722831726074, 'nn_snr': 14.618489265441895}], 'evm': [], 'mse_x': [{'original_mse_x': 0.04753781110048294, 'nn_mse_x': 0.034543197602033615}]}, '2000.0': {'mse': [], 'snr': [{'original_snr': 12.765410423278809, 'nn_snr': 13.631451606750488}], 'evm': [], 'mse_x': [{'original_mse_x': 0.05289217829704285, 'nn_mse_x': 0.043329868465662}]}, '4000.0': {'mse': [], 'snr': [{'original_snr': 11.882174491882324, 'nn_snr': 12.041546821594238}], 'evm': [], 'mse_x': [{'original_mse_x': 0.06483516842126846, 'nn_mse_x': 0.06249905377626419}]}, '5000.0': {'mse': [], 'snr': [{'original_snr': 11.447955131530762, 'nn_snr': 10.906067848205566}], 'evm': [], 'mse_x': [{'original_mse_x': 0.0716724693775177, 'nn_mse_x': 0.08119721710681915}]}}}\n"
     ]
    }
   ],
   "source": [
    "import json\n",
    "\n",
    "# File path to the JSON file\n",
    "file_path = \"test_results_mseloss_snr_wogn.json\"\n",
    "\n",
    "# Read and load JSON data\n",
    "with open(file_path, \"r\") as file:\n",
    "    data = json.load(file)\n",
    "\n",
    "# Print the loaded data\n",
    "print(\"Loaded JSON data:\")\n",
    "print(data)"
   ]
  },
  {
   "cell_type": "code",
   "execution_count": 32,
   "id": "0d082d85-9c0e-465f-88ba-779597faaa84",
   "metadata": {},
   "outputs": [
    {
     "name": "stdout",
     "output_type": "stream",
     "text": [
      "100000.0 1000.0 {'mse': [], 'snr': [{'original_snr': 13.967032432556152, 'nn_snr': -5.984964847564697}], 'evm': [], 'mse_x': [{'original_mse_x': 0.055297981947660446, 'nn_mse_x': -12.775007247924805}]}\n",
      "200000.0 1000.0 {'mse': [], 'snr': [{'original_snr': 13.871624946594238, 'nn_snr': -6.002740859985352}], 'evm': [], 'mse_x': [{'original_mse_x': 0.05561605840921402, 'nn_mse_x': -12.83394718170166}]}\n",
      "300000.0 1000.0 {'mse': [], 'snr': [{'original_snr': 13.785279273986816, 'nn_snr': -6.0016560554504395}], 'evm': [], 'mse_x': [{'original_mse_x': 0.0559067577123642, 'nn_mse_x': -12.836738586425781}]}\n",
      "400000.0 1000.0 {'mse': [], 'snr': [{'original_snr': 13.685199737548828, 'nn_snr': -6.0020432472229}], 'evm': [], 'mse_x': [{'original_mse_x': 0.0562160462141037, 'nn_mse_x': -12.829652786254883}]}\n",
      "500000.0 1000.0 {'mse': [], 'snr': [{'original_snr': 13.597432136535645, 'nn_snr': -5.999393939971924}], 'evm': [], 'mse_x': [{'original_mse_x': 0.056487664580345154, 'nn_mse_x': -12.82852840423584}]}\n",
      "750000.0 1000.0 {'mse': [], 'snr': [{'original_snr': 13.40186595916748, 'nn_snr': -6.0032148361206055}], 'evm': [], 'mse_x': [{'original_mse_x': 0.05700502544641495, 'nn_mse_x': -12.805784225463867}]}\n",
      "1000000.0 1000.0 {'mse': [], 'snr': [{'original_snr': 13.184829711914062, 'nn_snr': -5.998473644256592}], 'evm': [], 'mse_x': [{'original_mse_x': 0.05754280835390091, 'nn_mse_x': -12.811331748962402}]}\n"
     ]
    }
   ],
   "source": [
    "for i,j in data.items():\n",
    "    for k,l in j.items():\n",
    "        if k == '1000.0':\n",
    "            print(i,k,l)"
   ]
  },
  {
   "cell_type": "code",
   "execution_count": 37,
   "id": "2b96e37d-73bf-4d5a-9d5a-4be1a0c6b26b",
   "metadata": {},
   "outputs": [],
   "source": [
    "data_org = {'100000.0': {'1000.0': {'mse': [{'original_mse': 0.04024948552250862, 'nn_mse': 0.03134312108159065}], 'snr': [{'original_snr': 13.949653625488281, 'nn_snr': 15.035836219787598}], 'evm': [], 'mse_x': []}, '2000.0': {'mse': [{'original_mse': 0.04066659137606621, 'nn_mse': 0.018770508468151093}], 'snr': [{'original_snr': 13.90817642211914, 'nn_snr': 17.265796661376953}], 'evm': [], 'mse_x': []}, '4000.0': {'mse': [{'original_mse': 0.041696492582559586, 'nn_mse': 0.017784878611564636}], 'snr': [{'original_snr': 13.796957969665527, 'nn_snr': 17.4974422454834}], 'evm': [], 'mse_x': []}, '5000.0': {'mse': [{'original_mse': 0.042467717081308365, 'nn_mse': 0.017971668392419815}], 'snr': [{'original_snr': 13.717391967773438, 'nn_snr': 17.45209503173828}], 'evm': [], 'mse_x': []}}, '200000.0': {'1000.0': {'mse': [{'original_mse': 0.04098331555724144, 'nn_mse': 0.01592455618083477}], 'snr': [{'original_snr': 13.871071815490723, 'nn_snr': 17.976469039916992}], 'evm': [], 'mse_x': []}, '2000.0': {'mse': [{'original_mse': 0.04191959649324417, 'nn_mse': 0.016165638342499733}], 'snr': [{'original_snr': 13.770294189453125, 'nn_snr': 17.90853500366211}], 'evm': [], 'mse_x': []}, '4000.0': {'mse': [{'original_mse': 0.044385362416505814, 'nn_mse': 0.01858220063149929}], 'snr': [{'original_snr': 13.527846336364746, 'nn_snr': 17.30927276611328}], 'evm': [], 'mse_x': []}, '5000.0': {'mse': [{'original_mse': 0.04530418664216995, 'nn_mse': 0.019777432084083557}], 'snr': [{'original_snr': 13.437174797058105, 'nn_snr': 17.03685760498047}], 'evm': [], 'mse_x': []}}, '300000.0': {'1000.0': {'mse': [{'original_mse': 0.041788727045059204, 'nn_mse': 0.01582397148013115}], 'snr': [{'original_snr': 13.785594940185547, 'nn_snr': 18.003032684326172}], 'evm': [], 'mse_x': []}, '2000.0': {'mse': [{'original_mse': 0.043491430580616, 'nn_mse': 0.01964285969734192}], 'snr': [{'original_snr': 13.616817474365234, 'nn_snr': 17.06880760192871}], 'evm': [], 'mse_x': []}, '4000.0': {'mse': [{'original_mse': 0.0467790812253952, 'nn_mse': 0.020488932728767395}], 'snr': [{'original_snr': 13.300372123718262, 'nn_snr': 16.885696411132812}], 'evm': [], 'mse_x': []}, '5000.0': {'mse': [{'original_mse': 0.048544637858867645, 'nn_mse': 0.022622155025601387}], 'snr': [{'original_snr': 13.137242317199707, 'nn_snr': 16.453317642211914}], 'evm': [], 'mse_x': []}}, '400000.0': {'1000.0': {'mse': [{'original_mse': 0.04282202944159508, 'nn_mse': 0.016188479959964752}], 'snr': [{'original_snr': 13.681855201721191, 'nn_snr': 17.906465530395508}], 'evm': [], 'mse_x': []}, '2000.0': {'mse': [{'original_mse': 0.044472333043813705, 'nn_mse': 0.017956426367163658}], 'snr': [{'original_snr': 13.521119117736816, 'nn_snr': 17.45981788635254}], 'evm': [], 'mse_x': []}, '4000.0': {'mse': [{'original_mse': 0.04900788143277168, 'nn_mse': 0.02309637889266014}], 'snr': [{'original_snr': 13.096492767333984, 'nn_snr': 16.363712310791016}], 'evm': [], 'mse_x': []}, '5000.0': {'mse': [{'original_mse': 0.052440520375967026, 'nn_mse': 0.02672368660569191}], 'snr': [{'original_snr': 12.803266525268555, 'nn_snr': 15.730973243713379}], 'evm': [], 'mse_x': []}}, '500000.0': {'1000.0': {'mse': [{'original_mse': 0.043755605816841125, 'nn_mse': 0.01742788776755333}], 'snr': [{'original_snr': 13.592864990234375, 'nn_snr': 17.590755462646484}], 'evm': [], 'mse_x': []}, '2000.0': {'mse': [{'original_mse': 0.04581286758184433, 'nn_mse': 0.019019564613699913}], 'snr': [{'original_snr': 13.393702507019043, 'nn_snr': 17.211570739746094}], 'evm': [], 'mse_x': []}, '4000.0': {'mse': [{'original_mse': 0.05135503038764, 'nn_mse': 0.02448819763958454}], 'snr': [{'original_snr': 12.89537525177002, 'nn_snr': 16.111637115478516}], 'evm': [], 'mse_x': []}, '5000.0': {'mse': [{'original_mse': 0.05428534001111984, 'nn_mse': 0.028887640684843063}], 'snr': [{'original_snr': 12.654611587524414, 'nn_snr': 15.394317626953125}], 'evm': [], 'mse_x': []}}, '750000.0': {'1000.0': {'mse': [{'original_mse': 0.04559110477566719, 'nn_mse': 0.020152373239398003}], 'snr': [{'original_snr': 13.409217834472656, 'nn_snr': 16.954757690429688}], 'evm': [], 'mse_x': []}, '2000.0': {'mse': [{'original_mse': 0.049291908740997314, 'nn_mse': 0.02148602530360222}], 'snr': [{'original_snr': 13.073949813842773, 'nn_snr': 16.680143356323242}], 'evm': [], 'mse_x': []}, '4000.0': {'mse': [{'original_mse': 0.05881041660904884, 'nn_mse': 0.028610343113541603}], 'snr': [{'original_snr': 12.311381340026855, 'nn_snr': 15.440692901611328}], 'evm': [], 'mse_x': []}, '5000.0': {'mse': [{'original_mse': 0.06416648626327515, 'nn_mse': 0.035897742956876755}], 'snr': [{'original_snr': 11.926660537719727, 'nn_snr': 14.449071884155273}], 'evm': [], 'mse_x': []}}, '1000000.0': {'1000.0': {'mse': [{'original_mse': 0.048021942377090454, 'nn_mse': 0.021252566948533058}], 'snr': [{'original_snr': 13.18494987487793, 'nn_snr': 16.72523307800293}], 'evm': [], 'mse_x': []}, '2000.0': {'mse': [{'original_mse': 0.05318455025553703, 'nn_mse': 0.024151302874088287}], 'snr': [{'original_snr': 12.743363380432129, 'nn_snr': 16.17181396484375}], 'evm': [], 'mse_x': []}, '4000.0': {'mse': [{'original_mse': 0.0666188970208168, 'nn_mse': 0.03532666712999344}], 'snr': [{'original_snr': 11.763470649719238, 'nn_snr': 14.518418312072754}], 'evm': [], 'mse_x': []}, '5000.0': {'mse': [{'original_mse': 0.07296168804168701, 'nn_mse': 0.04144876450300217}], 'snr': [{'original_snr': 11.367842674255371, 'nn_snr': 13.823674201965332}], 'evm': [], 'mse_x': []}}}"
   ]
  },
  {
   "cell_type": "code",
   "execution_count": 39,
   "id": "09f28ff3-7c13-44f1-80f0-cc5b57dfc112",
   "metadata": {},
   "outputs": [
    {
     "name": "stdout",
     "output_type": "stream",
     "text": [
      "json created/updated\n"
     ]
    }
   ],
   "source": [
    "def overwrite_json(file_path, new_data):\n",
    "    with open(file_path, \"w\") as file:\n",
    "        json.dump(new_data, file, indent=4)\n",
    "        print(\"json created/updated\")\n",
    "file_path = \"test_results_mseloss_snr_original.json\"\n",
    "overwrite_json(file_path, data_org)"
   ]
  },
  {
   "cell_type": "code",
   "execution_count": null,
   "id": "0aebcac9-a205-4ba0-a419-2f3b3c1ac87f",
   "metadata": {},
   "outputs": [],
   "source": []
  },
  {
   "cell_type": "code",
   "execution_count": 40,
   "id": "c6a978e5-e2a0-4e1a-a7f0-98757434f27c",
   "metadata": {},
   "outputs": [
    {
     "name": "stdout",
     "output_type": "stream",
     "text": [
      "Loaded JSON data:\n",
      "{'100000.0': {'1000.0': {'mse': [{'original_mse': 0.04024948552250862, 'nn_mse': 0.03134312108159065}], 'snr': [{'original_snr': 13.949653625488281, 'nn_snr': 15.035836219787598}], 'evm': [], 'mse_x': []}, '2000.0': {'mse': [{'original_mse': 0.04066659137606621, 'nn_mse': 0.018770508468151093}], 'snr': [{'original_snr': 13.90817642211914, 'nn_snr': 17.265796661376953}], 'evm': [], 'mse_x': []}, '4000.0': {'mse': [{'original_mse': 0.041696492582559586, 'nn_mse': 0.017784878611564636}], 'snr': [{'original_snr': 13.796957969665527, 'nn_snr': 17.4974422454834}], 'evm': [], 'mse_x': []}, '5000.0': {'mse': [{'original_mse': 0.042467717081308365, 'nn_mse': 0.017971668392419815}], 'snr': [{'original_snr': 13.717391967773438, 'nn_snr': 17.45209503173828}], 'evm': [], 'mse_x': []}}, '200000.0': {'1000.0': {'mse': [{'original_mse': 0.04098331555724144, 'nn_mse': 0.01592455618083477}], 'snr': [{'original_snr': 13.871071815490723, 'nn_snr': 17.976469039916992}], 'evm': [], 'mse_x': []}, '2000.0': {'mse': [{'original_mse': 0.04191959649324417, 'nn_mse': 0.016165638342499733}], 'snr': [{'original_snr': 13.770294189453125, 'nn_snr': 17.90853500366211}], 'evm': [], 'mse_x': []}, '4000.0': {'mse': [{'original_mse': 0.044385362416505814, 'nn_mse': 0.01858220063149929}], 'snr': [{'original_snr': 13.527846336364746, 'nn_snr': 17.30927276611328}], 'evm': [], 'mse_x': []}, '5000.0': {'mse': [{'original_mse': 0.04530418664216995, 'nn_mse': 0.019777432084083557}], 'snr': [{'original_snr': 13.437174797058105, 'nn_snr': 17.03685760498047}], 'evm': [], 'mse_x': []}}, '300000.0': {'1000.0': {'mse': [{'original_mse': 0.041788727045059204, 'nn_mse': 0.01582397148013115}], 'snr': [{'original_snr': 13.785594940185547, 'nn_snr': 18.003032684326172}], 'evm': [], 'mse_x': []}, '2000.0': {'mse': [{'original_mse': 0.043491430580616, 'nn_mse': 0.01964285969734192}], 'snr': [{'original_snr': 13.616817474365234, 'nn_snr': 17.06880760192871}], 'evm': [], 'mse_x': []}, '4000.0': {'mse': [{'original_mse': 0.0467790812253952, 'nn_mse': 0.020488932728767395}], 'snr': [{'original_snr': 13.300372123718262, 'nn_snr': 16.885696411132812}], 'evm': [], 'mse_x': []}, '5000.0': {'mse': [{'original_mse': 0.048544637858867645, 'nn_mse': 0.022622155025601387}], 'snr': [{'original_snr': 13.137242317199707, 'nn_snr': 16.453317642211914}], 'evm': [], 'mse_x': []}}, '400000.0': {'1000.0': {'mse': [{'original_mse': 0.04282202944159508, 'nn_mse': 0.016188479959964752}], 'snr': [{'original_snr': 13.681855201721191, 'nn_snr': 17.906465530395508}], 'evm': [], 'mse_x': []}, '2000.0': {'mse': [{'original_mse': 0.044472333043813705, 'nn_mse': 0.017956426367163658}], 'snr': [{'original_snr': 13.521119117736816, 'nn_snr': 17.45981788635254}], 'evm': [], 'mse_x': []}, '4000.0': {'mse': [{'original_mse': 0.04900788143277168, 'nn_mse': 0.02309637889266014}], 'snr': [{'original_snr': 13.096492767333984, 'nn_snr': 16.363712310791016}], 'evm': [], 'mse_x': []}, '5000.0': {'mse': [{'original_mse': 0.052440520375967026, 'nn_mse': 0.02672368660569191}], 'snr': [{'original_snr': 12.803266525268555, 'nn_snr': 15.730973243713379}], 'evm': [], 'mse_x': []}}, '500000.0': {'1000.0': {'mse': [{'original_mse': 0.043755605816841125, 'nn_mse': 0.01742788776755333}], 'snr': [{'original_snr': 13.592864990234375, 'nn_snr': 17.590755462646484}], 'evm': [], 'mse_x': []}, '2000.0': {'mse': [{'original_mse': 0.04581286758184433, 'nn_mse': 0.019019564613699913}], 'snr': [{'original_snr': 13.393702507019043, 'nn_snr': 17.211570739746094}], 'evm': [], 'mse_x': []}, '4000.0': {'mse': [{'original_mse': 0.05135503038764, 'nn_mse': 0.02448819763958454}], 'snr': [{'original_snr': 12.89537525177002, 'nn_snr': 16.111637115478516}], 'evm': [], 'mse_x': []}, '5000.0': {'mse': [{'original_mse': 0.05428534001111984, 'nn_mse': 0.028887640684843063}], 'snr': [{'original_snr': 12.654611587524414, 'nn_snr': 15.394317626953125}], 'evm': [], 'mse_x': []}}, '750000.0': {'1000.0': {'mse': [{'original_mse': 0.04559110477566719, 'nn_mse': 0.020152373239398003}], 'snr': [{'original_snr': 13.409217834472656, 'nn_snr': 16.954757690429688}], 'evm': [], 'mse_x': []}, '2000.0': {'mse': [{'original_mse': 0.049291908740997314, 'nn_mse': 0.02148602530360222}], 'snr': [{'original_snr': 13.073949813842773, 'nn_snr': 16.680143356323242}], 'evm': [], 'mse_x': []}, '4000.0': {'mse': [{'original_mse': 0.05881041660904884, 'nn_mse': 0.028610343113541603}], 'snr': [{'original_snr': 12.311381340026855, 'nn_snr': 15.440692901611328}], 'evm': [], 'mse_x': []}, '5000.0': {'mse': [{'original_mse': 0.06416648626327515, 'nn_mse': 0.035897742956876755}], 'snr': [{'original_snr': 11.926660537719727, 'nn_snr': 14.449071884155273}], 'evm': [], 'mse_x': []}}, '1000000.0': {'1000.0': {'mse': [{'original_mse': 0.048021942377090454, 'nn_mse': 0.021252566948533058}], 'snr': [{'original_snr': 13.18494987487793, 'nn_snr': 16.72523307800293}], 'evm': [], 'mse_x': []}, '2000.0': {'mse': [{'original_mse': 0.05318455025553703, 'nn_mse': 0.024151302874088287}], 'snr': [{'original_snr': 12.743363380432129, 'nn_snr': 16.17181396484375}], 'evm': [], 'mse_x': []}, '4000.0': {'mse': [{'original_mse': 0.0666188970208168, 'nn_mse': 0.03532666712999344}], 'snr': [{'original_snr': 11.763470649719238, 'nn_snr': 14.518418312072754}], 'evm': [], 'mse_x': []}, '5000.0': {'mse': [{'original_mse': 0.07296168804168701, 'nn_mse': 0.04144876450300217}], 'snr': [{'original_snr': 11.367842674255371, 'nn_snr': 13.823674201965332}], 'evm': [], 'mse_x': []}}}\n"
     ]
    }
   ],
   "source": [
    "file_path = \"test_results_mseloss_snr_original.json\"\n",
    "\n",
    "# Read and load JSON data\n",
    "with open(file_path, \"r\") as file:\n",
    "    data2 = json.load(file)\n",
    "\n",
    "# Print the loaded data\n",
    "print(\"Loaded JSON data:\")\n",
    "print(data2)"
   ]
  },
  {
   "cell_type": "code",
   "execution_count": 33,
   "id": "5e68f889-4c9b-4164-a53e-5a44f3dd5760",
   "metadata": {},
   "outputs": [],
   "source": [
    "def extract_data(htmlfile):\n",
    "    html_doc=htmlfile.read()\n",
    "    soup = BeautifulSoup(html_doc,'html.parser')\n",
    "    arr=soup.find_all('script')\n",
    "    s=str(arr[2])\n",
    "    return s[s.find(\"[{\"):s.find(\"}]\")+2]"
   ]
  },
  {
   "cell_type": "code",
   "execution_count": 46,
   "id": "aded3c50-f19e-4a1c-8b29-489d588ce196",
   "metadata": {},
   "outputs": [],
   "source": [
    "import os\n",
    "import re\n",
    "from bs4 import BeautifulSoup\n",
    "path = \"linechart/\"\n",
    "dir_list = os.listdir(path) \n",
    "data=[]\n",
    "for file in dir_list:\n",
    "    if(re.search(\".html$\",file)):\n",
    "        htmlfile=open(file,'r')\n",
    "        data.append(extract_data(htmlfile))"
   ]
  },
  {
   "cell_type": "code",
   "execution_count": 59,
   "id": "51f924ae-ef76-4477-8e82-6c47203eb719",
   "metadata": {},
   "outputs": [
    {
     "name": "stdout",
     "output_type": "stream",
     "text": [
      "{'mode': 'lines', 'name': 'With NN, Distance 1000.0 km', 'x': [100000.0, 200000.0, 300000.0, 400000.0, 500000.0, 750000.0, 1000000.0], 'y': [14.758465766906738, 17.92780876159668, 17.992795944213867, 17.865318298339844, 17.503589630126953, 17.167327880859375, 16.81277847290039], 'type': 'scatter'}\n"
     ]
    }
   ],
   "source": [
    "parsed_data = json.loads(data[0])\n",
    "dictionaries = [item for item in parsed_data if isinstance(item, dict)]\n",
    "print(dictionaries[0])"
   ]
  },
  {
   "cell_type": "code",
   "execution_count": 63,
   "id": "196d7835-0c34-4acc-a823-1ea959242f81",
   "metadata": {},
   "outputs": [
    {
     "data": {
      "text/plain": [
       "{'mode': 'lines',\n",
       " 'name': 'With NN, Distance 5000.0 km',\n",
       " 'x': [100000.0, 200000.0, 300000.0, 400000.0, 500000.0, 750000.0, 1000000.0],\n",
       " 'y': [17.411344528198242,\n",
       "  17.040056228637695,\n",
       "  16.455219268798828,\n",
       "  15.776386260986328,\n",
       "  15.411513328552246,\n",
       "  14.493789672851562,\n",
       "  13.774768829345703],\n",
       " 'type': 'scatter'}"
      ]
     },
     "execution_count": 63,
     "metadata": {},
     "output_type": "execute_result"
    }
   ],
   "source": [
    "parsed_data[6]"
   ]
  },
  {
   "cell_type": "code",
   "execution_count": 69,
   "id": "3cc671d1-e6b5-42c9-998c-4169e2740dc7",
   "metadata": {},
   "outputs": [],
   "source": [
    "air_dict = {100000.0: {1000.0: {'air': [0.18517187237739563, 0.8589114546775818, 1.1960901021957397, 1.509397268295288, 1.7783864736557007, 2.02894926071167, 2.2881386280059814, 2.50185489654541, 2.6462044715881348, 2.7267887592315674, 2.7887532711029053, 2.8165528774261475, 2.8428590297698975, 2.900604724884033, 2.934251070022583, 3.007791042327881, 3.0411102771759033, 3.0690720081329346, 3.097545862197876, 3.117917060852051, 3.1020476818084717, 3.1729440689086914, 3.2016079425811768, 3.2034947872161865, 3.2283270359039307, 3.255963087081909, 3.260671377182007, 3.266507863998413, 3.2959866523742676, 3.2901530265808105, 3.313091993331909, 3.309302806854248, 3.3314948081970215, 3.3455944061279297, 3.348114490509033, 3.369917392730713, 3.36844801902771, 3.3861849308013916, 3.3948450088500977, 3.3916871547698975, 3.418044328689575, 3.411123752593994, 3.4451940059661865, 3.4139277935028076, 3.434892416000366, 3.459193706512451, 3.4453277587890625, 3.455517292022705, 3.4433131217956543, 3.443033456802368, 3.481145143508911, 3.4762446880340576, 3.4887375831604004, 3.479933500289917, 3.508228063583374, 3.489482879638672, 3.4939451217651367, 3.507878065109253, 3.4946141242980957, 3.4971702098846436, 3.5200843811035156, 3.5082762241363525, 3.51263689994812, 3.51371693611145, 3.520475149154663, 3.513643741607666, 3.5403358936309814, 3.516467332839966, 3.5341830253601074, 3.537518262863159, 3.5334632396698, 3.540252208709717, 3.5435683727264404, 3.5580668449401855, 3.5533604621887207, 3.5445234775543213, 3.533938407897949, 3.5528998374938965, 3.552123785018921, 3.563157081604004, 3.546447277069092, 3.5666112899780273, 3.5509490966796875, 3.5661511421203613, 3.552035093307495, 3.5565247535705566, 3.5624818801879883, 3.5427322387695312, 3.5628902912139893, 3.5612378120422363, 3.560234785079956, 3.584479570388794, 3.561680793762207, 3.5603692531585693, 3.5687687397003174, 3.5763423442840576, 3.5740270614624023, 3.569732189178467, 3.5687637329101562, 3.5508363246917725, 3.5600218772888184, 3.5879251956939697, 3.5661301612854004, 3.5659875869750977, 3.5744478702545166, 3.5746748447418213, 3.570617437362671, 3.5954766273498535, 3.592794179916382, 3.588684558868408, 3.592475652694702, 3.596951484680176, 3.5999104976654053, 3.5749404430389404, 3.605823278427124, 3.610771894454956, 3.585897445678711, 3.5754411220550537, 3.5923891067504883, 3.588595390319824, 3.5903356075286865, 3.5810251235961914, 3.584437608718872, 3.5946004390716553, 3.610698938369751, 3.5833899974823]}}, 200000.0: {1000.0: {'air': [3.595791816711426, 3.588916778564453, 3.5838866233825684, 3.579690933227539, 3.5872104167938232, 3.600954055786133, 3.5980749130249023, 3.610668182373047, 3.6167972087860107, 3.59966778755188, 3.6108787059783936, 3.5937817096710205, 3.5890016555786133, 3.6130692958831787, 3.597902536392212, 3.589484930038452, 3.586030960083008, 3.602491617202759, 3.6068742275238037]}}}"
   ]
  },
  {
   "cell_type": "code",
   "execution_count": 72,
   "id": "892dda7e-c961-4ddf-b049-1fa84fff95b6",
   "metadata": {},
   "outputs": [
    {
     "data": {
      "image/png": "[encoded data removed]",
      "text/plain": [
       "<Figure size 1000x600 with 1 Axes>"
      ]
     },
     "metadata": {},
     "output_type": "display_data"
    }
   ],
   "source": [
    "import matplotlib.pyplot as plt\n",
    "\n",
    "def plot_air_vs_epoch(air_dict):\n",
    "    \"\"\"\n",
    "    Plots AIR vs. Epoch for all combinations of linewidth and link distance.\n",
    "    air_dict: Nested dictionary containing AIR values for each linewidth and link distance.\n",
    "    \"\"\"\n",
    "    fig, ax = plt.subplots(figsize=(10, 6))\n",
    "    \n",
    "    # Iterate over linewidths and link distances\n",
    "    for lw, distances in air_dict.items():\n",
    "        for length, values in distances.items():\n",
    "            air_values = values[\"air\"]\n",
    "            \n",
    "            # X-axis: Epochs\n",
    "            epochs = list(range(1, len(air_values) + 1))\n",
    "            \n",
    "            # Plot AIR vs. Epoch for each combination\n",
    "            ax.plot(epochs, air_values, label=f\"Linewidth: {lw} Hz, Distance: {length} km\")\n",
    "    \n",
    "    # Add labels, title, and legend\n",
    "    ax.set_xlabel(\"Epochs\")\n",
    "    ax.set_ylabel(\"AIR (bits)\")\n",
    "    ax.set_title(\"AIR vs. Epoch for Different Linewidth and Link Distances\")\n",
    "    ax.legend(title=\"Combinations\", loc='upper left', bbox_to_anchor=(1, 1), fontsize='small')\n",
    "    ax.grid(True)\n",
    "    \n",
    "    # Adjust layout to fit legend\n",
    "    plt.tight_layout()\n",
    "    plt.savefig(\"air_vs_epoch_plot.svg\", format='svg')\n",
    "    plt.show()\n",
    "\n",
    "# Example call to the function\n",
    "plot_air_vs_epoch(air_dict)\n"
   ]
  },
  {
   "cell_type": "code",
   "execution_count": 93,
   "id": "cc5a3e35-28b2-4559-b5c1-25ae6305c0fd",
   "metadata": {},
   "outputs": [
    {
     "name": "stderr",
     "output_type": "stream",
     "text": [
      "2025-01-20 12:04:23.203424: I tensorflow/core/platform/cpu_feature_guard.cc:182] This TensorFlow binary is optimized to use available CPU instructions in performance-critical operations.\n",
      "To enable the following instructions: AVX2 FMA, in other operations, rebuild TensorFlow with the appropriate compiler flags.\n",
      "2025-01-20 12:04:24.076256: W tensorflow/compiler/tf2tensorrt/utils/py_utils.cc:38] TF-TRT Warning: Could not find TensorRT\n"
     ]
    }
   ],
   "source": [
    "from phasenoise import PhaseNoise"
   ]
  },
  {
   "cell_type": "code",
   "execution_count": null,
   "id": "2df35f2c-f9ae-4572-99d8-75b07cae51a3",
   "metadata": {},
   "outputs": [],
   "source": [
    "PhaseNoise(y, , )"
   ]
  },
  {
   "cell_type": "code",
   "execution_count": 6,
   "id": "4c36aceb-5ac2-4be9-9314-ddf770a6ad09",
   "metadata": {},
   "outputs": [],
   "source": [
    "import os\n",
    "if os.getenv(\"CUDA_VISIBLE_DEVICES\") is None:\n",
    "    gpu_num = 0 # Use \"\" to use the CPU\n",
    "    os.environ[\"CUDA_VISIBLE_DEVICES\"] = f\"{gpu_num}\"\n",
    "os.environ['TF_CPP_MIN_LOG_LEVEL'] = '3'\n",
    "\n",
    "# Import Sionna\n",
    "try:\n",
    "    import sionna\n",
    "except ImportError as e:\n",
    "    # Install Sionna if package is not already installed\n",
    "    import os\n",
    "    os.system(\"pip install sionna\")\n",
    "    import sionna\n",
    "\n",
    "import tensorflow as tf\n",
    "# Configure the notebook to use only a single GPU and allocate only as much memory as needed\n",
    "# For more details, see https://www.tensorflow.org/guide/gpu\n",
    "gpus = tf.config.list_physical_devices('GPU')\n",
    "if gpus:\n",
    "    try:\n",
    "        tf.config.experimental.set_memory_growth(gpus[0], True)\n",
    "    except RuntimeError as e:\n",
    "        print(e)\n",
    "# Avoid warnings from TensorFlow\n",
    "tf.get_logger().setLevel('ERROR')\n",
    "\n",
    "# Set random seed for reproducibility\n",
    "sionna.config.seed = 42\n",
    "from sionna.channel import utils\n",
    "\n",
    "import numpy as np\n",
    "%matplotlib inline\n",
    "import matplotlib.pyplot as plt"
   ]
  },
  {
   "cell_type": "code",
   "execution_count": 9,
   "id": "7d62c9d5-e957-41fc-bd93-8955b30fc6ad",
   "metadata": {},
   "outputs": [],
   "source": [
    "beta_2 = -21.67  # (ps^2/km) Norm. group velocity dispersion"
   ]
  },
  {
   "cell_type": "code",
   "execution_count": 71,
   "id": "e16f5676-3d7b-4e41-9832-8b8dd57ffad0",
   "metadata": {},
   "outputs": [],
   "source": [
    "# Simulation parameters\n",
    "dtype = tf.complex128  # Simulation accuracy (double)\n",
    "t_sim = int(1e4)  # (ps) Simulation time window\n",
    "n_sim = int(1e4)  # Number of simulation samples\n",
    "\n",
    "# Channel parameters\n",
    "n_span = 1\n",
    "\n",
    "# Impulse parameters\n",
    "p_0 = 3e-2  # (W) Peak power of the Gaussian pulse\n",
    "t_0 = 50  # (ps) Norm. temporal scaling of the Gaussian pulse\n",
    "\n",
    "# Support\n",
    "dt = t_sim / n_sim  # (s) sample duration\n",
    "t, f = utils.time_frequency_vector(\n",
    "    n_sim, dt, dtype=dtype.real_dtype)  # (ps), (THz) Time and frequency vector\n",
    "\n",
    "# Generate Gaussian impulse\n",
    "g_0 = np.sqrt(p_0 * 2**(-((2.0*t / t_0) ** 2.0)))\n",
    "g_0 = tf.cast(g_0, dtype=dtype)\n",
    "G_0 = tf.signal.fftshift(\n",
    "        tf.abs(\n",
    "            tf.cast(dt, dtype) *\n",
    "            tf.signal.fft(g_0) /\n",
    "            tf.cast(tf.math.sqrt(2 * np.pi), dtype)\n",
    "        ) ** 2\n",
    ")"
   ]
  },
  {
   "cell_type": "code",
   "execution_count": 72,
   "id": "f2ea2299-7cfb-4446-8104-a72cffe7c4ca",
   "metadata": {},
   "outputs": [],
   "source": [
    "# Normalization\n",
    "t_norm = 1e-12  # (s) -> (ps) Time normalization\n",
    "z_norm = 1e3  # (m) -> (km) Distance normalization\n",
    "\n",
    "# Fiber parameters\n",
    "f_c = 193.55e12  # (Hz) Abs. Carrier frequency\n",
    "length_sp = 80.0  # (km) Norm. fiber span length\n",
    "alpha = 0.046  # (1/km) Norm. fiber attenuation\n",
    "\n",
    "# EDFA parameters\n",
    "g_edfa = tf.exp(alpha * length_sp)\n",
    "f_edfa = 10**(5/10)  # (1) Noise figure"
   ]
  },
  {
   "cell_type": "code",
   "execution_count": 73,
   "id": "f13b85ce-8660-4078-a57c-6afa3791cde0",
   "metadata": {},
   "outputs": [],
   "source": [
    "span_cd = sionna.channel.optical.SSFM(\n",
    "            alpha=alpha,\n",
    "            beta_2=beta_2,\n",
    "            f_c=f_c,\n",
    "            length=length_sp,\n",
    "            sample_duration=dt,\n",
    "            with_amplification=False,\n",
    "            with_attenuation=True,\n",
    "            with_dispersion=True,\n",
    "            with_nonlinearity=False,\n",
    "            dtype=dtype,\n",
    "            t_norm=t_norm)\n",
    "\n",
    "amplifier_cd = sionna.channel.optical.EDFA(\n",
    "            g=g_edfa,\n",
    "            f=0,\n",
    "            f_c=f_c,\n",
    "            dt=dt * t_norm,\n",
    "            dtype=dtype)\n",
    "\n",
    "\n",
    "def lumped_amplification_channel_cd(inputs):\n",
    "    (u_0) = inputs\n",
    "\n",
    "    u = u_0\n",
    "    for _ in range(n_span):\n",
    "        u = span_cd(u)\n",
    "        u = amplifier_cd(u)\n",
    "\n",
    "    return u"
   ]
  },
  {
   "cell_type": "code",
   "execution_count": 74,
   "id": "3c0530b6-2bfc-47b5-bc58-83977af10377",
   "metadata": {},
   "outputs": [],
   "source": [
    "x = g_0  # previously generated Gaussian impulse\n",
    "y = lumped_amplification_channel_cd(x)\n",
    "\n",
    "X = tf.signal.fftshift(\n",
    "    tf.abs(\n",
    "        tf.cast(dt, dtype) *\n",
    "        tf.signal.fft(x) /\n",
    "        tf.cast(tf.math.sqrt(2 * np.pi), dtype)\n",
    "    ) ** 2\n",
    ")\n",
    "\n",
    "Y = tf.signal.fftshift(\n",
    "    tf.abs(\n",
    "        tf.cast(dt, dtype) *\n",
    "        tf.signal.fft(y) /\n",
    "        tf.cast(tf.math.sqrt(2 * np.pi), dtype)\n",
    "    ) ** 2\n",
    ")\n",
    "\n",
    "X_angle = tf.math.angle(tf.signal.fftshift(tf.signal.fft(x)))\n",
    "Y_angle = tf.math.angle(tf.signal.fftshift(tf.signal.fft(y)))"
   ]
  },
  {
   "cell_type": "code",
   "execution_count": 75,
   "id": "48b7cc53-da0d-44ac-aead-762bbf0e9320",
   "metadata": {},
   "outputs": [],
   "source": [
    "import tikzplotlib"
   ]
  },
  {
   "cell_type": "code",
   "execution_count": 78,
   "id": "f56ceed8-d11a-47a3-b091-244830b88d30",
   "metadata": {},
   "outputs": [
    {
     "data": {
      "image/png": "[encoded data removed]",
      "text/plain": [
       "<Figure size 640x480 with 1 Axes>"
      ]
     },
     "metadata": {},
     "output_type": "display_data"
    }
   ],
   "source": [
    "fig, (ax2) = plt.subplots(1, 1)\n",
    "\n",
    "# ax1.plot(t.numpy().flatten(), np.abs(x.numpy().flatten())**2)\n",
    "# ax1.plot(t.numpy().flatten(), np.abs(y.numpy().flatten())**2)\n",
    "# ax1.set_xlim(-100, 100)\n",
    "# ax1.set_xlabel(r\"$t$ in (ps)\")\n",
    "# ax1.set_ylabel(r\"$|g(t)|^2$ in (W)\")\n",
    "# ax1.grid()\n",
    "\n",
    "ax2.plot(\n",
    "    f.numpy().flatten(),\n",
    "    (X.numpy().flatten())/np.max(X.numpy().flatten()))\n",
    "ax2.plot(\n",
    "    f.numpy().flatten(),\n",
    "    (Y.numpy().flatten())/np.max(Y.numpy().flatten()))\n",
    "ax2.set_xlim(-0.015, 0.015)\n",
    "ax2.set_xlabel(r\"$f-f_c$ in (THz)\")\n",
    "ax2.set_ylabel(r\"$\\frac{|G(f-f_c)|^2}{|G_\\mathrm{max}|^2}$\")\n",
    "ax2.grid()\n",
    "\n",
    "ax2.legend(['transmitted', 'received'])\n",
    "plt.tight_layout()\n",
    "\n",
    "def tikzplotlib_fix_ncols(obj):\n",
    "    \"\"\"\n",
    "    workaround for matplotlib 3.6 renamed legend's _ncol to _ncols, which breaks tikzplotlib\n",
    "    \"\"\"\n",
    "    if hasattr(obj, \"_ncols\"):\n",
    "        obj._ncol = obj._ncols\n",
    "    for child in obj.get_children():\n",
    "        tikzplotlib_fix_ncols(child)\n",
    "\n",
    "tikzplotlib_fix_ncols(fig)\n",
    "\n",
    "# Generate a unique file name based on link distance and linewidth\n",
    "fig.savefig(\"cd_f.svg\", format='svg')\n",
    "tikzplotlib.save('cd_f.tex')\n",
    "# Show plot\n",
    "plt.show()"
   ]
  },
  {
   "cell_type": "code",
   "execution_count": 79,
   "id": "5742631c-5ebe-42d0-9460-c4a9210c5636",
   "metadata": {},
   "outputs": [
    {
     "data": {
      "image/png": "[encoded data removed]",
      "text/plain": [
       "<Figure size 640x480 with 1 Axes>"
      ]
     },
     "metadata": {},
     "output_type": "display_data"
    }
   ],
   "source": [
    "fig, (ax1) = plt.subplots(1, 1, tight_layout=True)\n",
    "\n",
    "ax1.plot(t.numpy().flatten(), np.angle(x.numpy().flatten()))\n",
    "ax1.plot(t.numpy().flatten(), np.angle(y.numpy().flatten()))\n",
    "ax1.set_xlim(-250, 250)\n",
    "ax1.set_xlabel(r\"$t$ in (ps)\")\n",
    "ax1.set_ylabel(\"$\\u2220 x(t), \\u2220 y(t)$\")\n",
    "ax1.grid()\n",
    "\n",
    "ax1.legend(['transmitted', 'received'])\n",
    "plt.tight_layout()\n",
    "\n",
    "def tikzplotlib_fix_ncols(obj):\n",
    "    \"\"\"\n",
    "    workaround for matplotlib 3.6 renamed legend's _ncol to _ncols, which breaks tikzplotlib\n",
    "    \"\"\"\n",
    "    if hasattr(obj, \"_ncols\"):\n",
    "        obj._ncol = obj._ncols\n",
    "    for child in obj.get_children():\n",
    "        tikzplotlib_fix_ncols(child)\n",
    "\n",
    "tikzplotlib_fix_ncols(fig)\n",
    "\n",
    "# Generate a unique file name based on link distance and linewidth\n",
    "fig.savefig(\"cd_phase.svg\", format='svg')\n",
    "tikzplotlib.save('cd_phase.tex')\n",
    "# Show plot\n",
    "plt.show()"
   ]
  },
  {
   "cell_type": "code",
   "execution_count": null,
   "id": "a4d86f71-d89e-4d4a-baa2-4d32570d88dd",
   "metadata": {},
   "outputs": [],
   "source": []
  },
  {
   "cell_type": "code",
   "execution_count": null,
   "id": "d66f5491-044f-4449-8b15-62b60f89d351",
   "metadata": {},
   "outputs": [],
   "source": []
  }
 ],
 "metadata": {
  "kernelspec": {
   "display_name": "Python 3 (ipykernel)",
   "language": "python",
   "name": "python3"
  },
  "language_info": {
   "codemirror_mode": {
    "name": "ipython",
    "version": 3
   },
   "file_extension": ".py",
   "mimetype": "text/x-python",
   "name": "python",
   "nbconvert_exporter": "python",
   "pygments_lexer": "ipython3",
   "version": "3.12.7"
  }
 },
 "nbformat": 4,
 "nbformat_minor": 5
}
